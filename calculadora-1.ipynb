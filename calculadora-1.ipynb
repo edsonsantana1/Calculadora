{
 "cells": [
  {
   "cell_type": "code",
   "execution_count": null,
   "metadata": {},
   "outputs": [],
   "source": [
    "def soma(n1, n2):\n",
    "    return n1 + n2\n",
    "\n",
    "def subtrair(n1, n2):\n",
    "    return n1 - n2\n",
    "\n",
    "def multiplica(n1, n2):\n",
    "    return n1 * n2\n",
    "\n",
    "def divide(n1, n2):\n",
    "    return n1 / n2\n",
    "\n",
    "while True:\n",
    "    print(\"+==================+\")\n",
    "    print(\"| MENU DE OPERAÇÕES|\")\n",
    "    print(\"|  1 - somar       |\")\n",
    "    print(\"|  2 - subtrair    |\")\n",
    "    print(\"|  3 - multiplicar |\")\n",
    "    print(\"|  4 - dividir     |\")\n",
    "    print(\"|  0 - sair        |\")\n",
    "    print(\"+==================+\")\n",
    "    op = int(input(\"Escolha a operação (0-4): \"))\n",
    "    \n",
    "    if op == 0:\n",
    "        break\n",
    "    elif op < 0 or op > 4:\n",
    "        print(\"Por favor, escolha uma operação de 0 a 4.\")\n",
    "        continue\n",
    "\n",
    "    n1 = int(input(\"Primeiro número: \"))\n",
    "    n2 = int(input(\"Segundo número: \"))\n",
    "\n",
    "    if op == 1:\n",
    "        print(\"O resultado da soma é:\", soma(n1, n2))\n",
    "    elif op == 2:\n",
    "        print(\"O resultado da subtração é:\", subtrair(n1, n2))\n",
    "    elif op == 3:\n",
    "        print(\"O resultado da multiplicação é:\", multiplica(n1, n2))\n",
    "    elif op == 4:\n",
    "        print(\"O resultado da divisão é:\", divide(n1, n2))"
   ]
  }
 ],
 "metadata": {
  "kernelspec": {
   "display_name": "Python 3",
   "language": "python",
   "name": "python3"
  },
  "language_info": {
   "codemirror_mode": {
    "name": "ipython",
    "version": 3
   },
   "file_extension": ".py",
   "mimetype": "text/x-python",
   "name": "python",
   "nbconvert_exporter": "python",
   "pygments_lexer": "ipython3",
   "version": "3.12.3"
  }
 },
 "nbformat": 4,
 "nbformat_minor": 2
}
